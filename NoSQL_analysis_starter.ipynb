{
 "cells": [
  {
   "cell_type": "markdown",
   "id": "9a57c4c6",
   "metadata": {},
   "source": [
    "# Eat Safe, Love"
   ]
  },
  {
   "cell_type": "markdown",
   "id": "064ef857",
   "metadata": {},
   "source": [
    "## Notebook Set Up"
   ]
  },
  {
   "cell_type": "code",
   "execution_count": 73,
   "id": "3ecdd008",
   "metadata": {},
   "outputs": [],
   "source": [
    "# Import dependencies\n",
    "from pymongo import MongoClient\n",
    "from pprint import pprint"
   ]
  },
  {
   "cell_type": "code",
   "execution_count": 74,
   "id": "59390c4a",
   "metadata": {},
   "outputs": [],
   "source": [
    "# Create an instance of MongoClient\n",
    "mongo = MongoClient(port=27017)"
   ]
  },
  {
   "cell_type": "code",
   "execution_count": 75,
   "id": "71e373c1",
   "metadata": {},
   "outputs": [],
   "source": [
    "# assign the uk_food database to a variable name\n",
    "db = mongo['uk_food']"
   ]
  },
  {
   "cell_type": "code",
   "execution_count": 76,
   "id": "18ab463c",
   "metadata": {},
   "outputs": [
    {
     "name": "stdout",
     "output_type": "stream",
     "text": [
      "establishments\n"
     ]
    }
   ],
   "source": [
    "# review the collections in our database\n",
    "# Get the list of collection names in the database\n",
    "collection_names = db.list_collection_names()\n",
    "\n",
    "# Print the collection names\n",
    "for collection_name in collection_names:\n",
    "    print(collection_name)"
   ]
  },
  {
   "cell_type": "code",
   "execution_count": 77,
   "id": "11c9f11b",
   "metadata": {},
   "outputs": [],
   "source": [
    "# assign the collection to a variable\n",
    "establishments = db['establishments']\n"
   ]
  },
  {
   "cell_type": "code",
   "execution_count": null,
   "id": "bd465d1f",
   "metadata": {},
   "outputs": [],
   "source": []
  },
  {
   "cell_type": "markdown",
   "id": "d5671434",
   "metadata": {},
   "source": [
    "## Part 3: Exploratory Analysis\n",
    "Unless otherwise stated, for each question: \n",
    "* Use `count_documents` to display the number of documents contained in the result.\n",
    "* Display the first document in the results using `pprint`.\n",
    "* Convert the result to a Pandas DataFrame, print the number of rows in the DataFrame, and display the first 10 rows."
   ]
  },
  {
   "cell_type": "code",
   "execution_count": null,
   "id": "89058dee",
   "metadata": {},
   "outputs": [],
   "source": []
  },
  {
   "cell_type": "markdown",
   "id": "314bd884",
   "metadata": {},
   "source": [
    "### 1. Which establishments have a hygiene score equal to 20?"
   ]
  },
  {
   "cell_type": "code",
   "execution_count": 78,
   "id": "c2da7648",
   "metadata": {},
   "outputs": [
    {
     "name": "stdout",
     "output_type": "stream",
     "text": [
      "Number of establishments with a hygiene score of 20: 41\n",
      "{'AddressLine1': '5-6 Southfields Road',\n",
      " 'AddressLine2': 'Eastbourne',\n",
      " 'AddressLine3': 'East Sussex',\n",
      " 'AddressLine4': '',\n",
      " 'BusinessName': 'The Chase Rest Home',\n",
      " 'BusinessType': 'Caring Premises',\n",
      " 'BusinessTypeID': 5,\n",
      " 'ChangesByServerID': 0,\n",
      " 'Distance': 4613.888288172291,\n",
      " 'FHRSID': 110681,\n",
      " 'LocalAuthorityBusinessID': '4029',\n",
      " 'LocalAuthorityCode': '102',\n",
      " 'LocalAuthorityEmailAddress': 'Customerfirst@eastbourne.gov.uk',\n",
      " 'LocalAuthorityName': 'Eastbourne',\n",
      " 'LocalAuthorityWebSite': 'http://www.eastbourne.gov.uk/foodratings',\n",
      " 'NewRatingPending': False,\n",
      " 'Phone': '',\n",
      " 'PostCode': 'BN21 1BU',\n",
      " 'RatingDate': '2021-09-23T00:00:00',\n",
      " 'RatingKey': 'fhrs_0_en-gb',\n",
      " 'RatingValue': '0',\n",
      " 'RightToReply': '',\n",
      " 'SchemeType': 'FHRS',\n",
      " '_id': ObjectId('64ac489b4851275aaa062536'),\n",
      " 'geocode': {'latitude': '50.769705', 'longitude': '0.27694'},\n",
      " 'latitude': None,\n",
      " 'links': [{'href': 'https://api.ratings.food.gov.uk/establishments/110681',\n",
      "            'rel': 'self'}],\n",
      " 'longitude': None,\n",
      " 'meta': {'dataSource': None,\n",
      "          'extractDate': '0001-01-01T00:00:00',\n",
      "          'itemCount': 0,\n",
      "          'pageNumber': 0,\n",
      "          'pageSize': 0,\n",
      "          'returncode': None,\n",
      "          'totalCount': 0,\n",
      "          'totalPages': 0},\n",
      " 'scores': {'ConfidenceInManagement': 20, 'Hygiene': 20, 'Structural': 20}}\n",
      "Number of rows in the DataFrame: 40\n",
      "First 10 rows of the DataFrame:\n",
      "                        _id   FHRSID  ChangesByServerID  \\\n",
      "0  64ac489b4851275aaa0628b7   612039                  0   \n",
      "1  64ac489b4851275aaa062bc1   730933                  0   \n",
      "2  64ac489b4851275aaa062daf   172735                  0   \n",
      "3  64ac489b4851275aaa062dbe   172953                  0   \n",
      "4  64ac489c4851275aaa06375d   512854                  0   \n",
      "5  64ac489c4851275aaa06397e  1537089                  0   \n",
      "6  64ac489e4851275aaa064ea9   155648                  0   \n",
      "7  64ac489e4851275aaa0652ed  1012883                  0   \n",
      "8  64ac489e4851275aaa065aff   644109                  0   \n",
      "9  64ac489e4851275aaa065b6f   267034                  0   \n",
      "\n",
      "  LocalAuthorityBusinessID               BusinessName  \\\n",
      "0                1970/FOOD                 Brenalwood   \n",
      "1                1698/FOOD              Melrose Hotel   \n",
      "2             PI/000023858              Seaford Pizza   \n",
      "3             PI/000024532              Golden Palace   \n",
      "4            12/00816/BUTH           Ashby's Butchers   \n",
      "5          22/00224/RESTUN  South Sea Express Cuisine   \n",
      "6              EH/00006058              Golden Palace   \n",
      "7         17/00110/MIXED/S             The Tulip Tree   \n",
      "8                    41811                      F & S   \n",
      "9           11/00102/MIXED                  Longhouse   \n",
      "\n",
      "                        BusinessType  BusinessTypeID           AddressLine1  \\\n",
      "0                    Caring Premises               5              Hall Lane   \n",
      "1  Hotel/bed & breakfast/guest house            7842  53 Marine Parade East   \n",
      "2             Takeaway/sandwich shop            7844          4 High Street   \n",
      "3            Restaurant/Cafe/Canteen               1         5 South Street   \n",
      "4                  Retailers - other            4613   777 Southchurch Road   \n",
      "5            Restaurant/Cafe/Canteen               1    33 Alexandra Street   \n",
      "6             Takeaway/sandwich shop            7844          7 London Road   \n",
      "7            Restaurant/Cafe/Canteen               1          3 The Village   \n",
      "8                  Retailers - other            4613                          \n",
      "9            Restaurant/Cafe/Canteen               1         17 London Road   \n",
      "\n",
      "         AddressLine2 AddressLine3  ...  \\\n",
      "0  Walton-on-the-Naze        Essex  ...   \n",
      "1      Clacton On Sea        Essex  ...   \n",
      "2             Seaford  East Sussex  ...   \n",
      "3             Seaford  East Sussex  ...   \n",
      "4     Southend-On-Sea        Essex  ...   \n",
      "5     Southend-on-sea        Essex  ...   \n",
      "6            Rayleigh        Essex  ...   \n",
      "7       Chiddingstone         KENT  ...   \n",
      "8      81 Southernhay     Basildon  ...   \n",
      "9           Riverhead         KENT  ...   \n",
      "\n",
      "                                              scores SchemeType  \\\n",
      "0  {'Hygiene': 20, 'Structural': 15, 'ConfidenceI...       FHRS   \n",
      "1  {'Hygiene': 20, 'Structural': 20, 'ConfidenceI...       FHRS   \n",
      "2  {'Hygiene': 20, 'Structural': 10, 'ConfidenceI...       FHRS   \n",
      "3  {'Hygiene': 20, 'Structural': 10, 'ConfidenceI...       FHRS   \n",
      "4  {'Hygiene': 20, 'Structural': 20, 'ConfidenceI...       FHRS   \n",
      "5  {'Hygiene': 20, 'Structural': 20, 'ConfidenceI...       FHRS   \n",
      "6  {'Hygiene': 20, 'Structural': 15, 'ConfidenceI...       FHRS   \n",
      "7  {'Hygiene': 20, 'Structural': 5, 'ConfidenceIn...       FHRS   \n",
      "8  {'Hygiene': 20, 'Structural': 20, 'ConfidenceI...       FHRS   \n",
      "9  {'Hygiene': 20, 'Structural': 25, 'ConfidenceI...       FHRS   \n",
      "\n",
      "                                             geocode RightToReply  \\\n",
      "0  {'longitude': '1.278721', 'latitude': '51.8575...                \n",
      "1  {'longitude': '1.15927', 'latitude': '51.789429'}                \n",
      "2  {'longitude': '0.10202', 'latitude': '50.770885'}                \n",
      "3  {'longitude': '0.101446', 'latitude': '50.7707...                \n",
      "4  {'longitude': '0.736349', 'latitude': '51.5414...                \n",
      "5  {'longitude': '0.7121671', 'latitude': '51.535...                \n",
      "6  {'longitude': '0.602364', 'latitude': '51.5915...                \n",
      "7  {'longitude': '0.146449998021126', 'latitude':...                \n",
      "8  {'longitude': '0.462307', 'latitude': '51.57005'}                \n",
      "9  {'longitude': '0.169685', 'latitude': '51.2847...                \n",
      "\n",
      "      Distance NewRatingPending  \\\n",
      "0  4617.965824            False   \n",
      "1  4619.656144            False   \n",
      "2  4620.421725            False   \n",
      "3  4620.437179            False   \n",
      "4  4625.565258            False   \n",
      "5  4626.200132            False   \n",
      "6  4632.276890            False   \n",
      "7  4633.934041            False   \n",
      "8  4636.552523            False   \n",
      "9  4636.703065            False   \n",
      "\n",
      "                                                meta  \\\n",
      "0  {'dataSource': None, 'extractDate': '0001-01-0...   \n",
      "1  {'dataSource': None, 'extractDate': '0001-01-0...   \n",
      "2  {'dataSource': None, 'extractDate': '0001-01-0...   \n",
      "3  {'dataSource': None, 'extractDate': '0001-01-0...   \n",
      "4  {'dataSource': None, 'extractDate': '0001-01-0...   \n",
      "5  {'dataSource': None, 'extractDate': '0001-01-0...   \n",
      "6  {'dataSource': None, 'extractDate': '0001-01-0...   \n",
      "7  {'dataSource': None, 'extractDate': '0001-01-0...   \n",
      "8  {'dataSource': None, 'extractDate': '0001-01-0...   \n",
      "9  {'dataSource': None, 'extractDate': '0001-01-0...   \n",
      "\n",
      "                                               links longitude latitude  \n",
      "0  [{'rel': 'self', 'href': 'https://api.ratings....      None     None  \n",
      "1  [{'rel': 'self', 'href': 'https://api.ratings....      None     None  \n",
      "2  [{'rel': 'self', 'href': 'https://api.ratings....      None     None  \n",
      "3  [{'rel': 'self', 'href': 'https://api.ratings....      None     None  \n",
      "4  [{'rel': 'self', 'href': 'https://api.ratings....      None     None  \n",
      "5  [{'rel': 'self', 'href': 'https://api.ratings....      None     None  \n",
      "6  [{'rel': 'self', 'href': 'http://api.ratings.f...      None     None  \n",
      "7  [{'rel': 'self', 'href': 'http://api.ratings.f...      None     None  \n",
      "8  [{'rel': 'self', 'href': 'http://api.ratings.f...      None     None  \n",
      "9  [{'rel': 'self', 'href': 'http://api.ratings.f...      None     None  \n",
      "\n",
      "[10 rows x 30 columns]\n"
     ]
    }
   ],
   "source": [
    "\n",
    "\n",
    "# Define the query to find establishments with a hygiene score of 20\n",
    "query = {\"scores.Hygiene\": 20}\n",
    "\n",
    "# Find the establishments with a hygiene score of 20\n",
    "results = collection.find(query)\n",
    "\n",
    "# Count the number of documents in the result\n",
    "num_documents = collection.count_documents(query)\n",
    "print(\"Number of establishments with a hygiene score of 20:\", num_documents)\n",
    "\n",
    "# Check if there are documents in the result\n",
    "if num_documents > 0:\n",
    "    # Display the first document in the results\n",
    "    first_document = next(results)\n",
    "    pprint(first_document)\n",
    "\n",
    "    # Convert the results to a DataFrame\n",
    "    df = pd.DataFrame(results)\n",
    "\n",
    "    # Print the number of rows in the DataFrame\n",
    "    print(\"Number of rows in the DataFrame:\", len(df))\n",
    "\n",
    "    # Display the first 10 rows\n",
    "    print(\"First 10 rows of the DataFrame:\")\n",
    "    print(df.head(10))\n",
    "else:\n",
    "    print(\"No establishments found with a hygiene score of 20.\")\n"
   ]
  },
  {
   "cell_type": "code",
   "execution_count": null,
   "id": "a6e5cece",
   "metadata": {},
   "outputs": [],
   "source": [
    "\n",
    "\n"
   ]
  },
  {
   "cell_type": "markdown",
   "id": "0ef4395a",
   "metadata": {},
   "source": [
    "### 2. Which establishments in London have a `RatingValue` greater than or equal to 4?"
   ]
  },
  {
   "cell_type": "code",
   "execution_count": 80,
   "id": "93c63829",
   "metadata": {},
   "outputs": [
    {
     "name": "stdout",
     "output_type": "stream",
     "text": [
      "Number of establishments in City of London Corporation with RatingValue >= 4: 0\n",
      "Number of rows in the DataFrame: 0\n",
      "First 10 rows of the DataFrame:\n",
      "Empty DataFrame\n",
      "Columns: []\n",
      "Index: []\n"
     ]
    }
   ],
   "source": [
    "\n",
    "import pandas as pd\n",
    "\n",
    "# Query to filter establishments in City of London Corporation with RatingValue >= 4\n",
    "query = {\n",
    "    \n",
    "    \"RatingValue\": {\"$gte\": 4},\n",
    "    \"LocalAuthorityName\": \"City of London Corporation\"\n",
    "}\n",
    "\n",
    "# Find the establishments matching the query\n",
    "results = collection.find(query)\n",
    "\n",
    "# Count the number of documents in the result\n",
    "num_establishments = collection.count_documents(query)\n",
    "print(\"Number of establishments in City of London Corporation with RatingValue >= 4:\", num_establishments)\n",
    "\n",
    "# Display the first document in the results using pprint\n",
    "if num_establishments > 0:\n",
    "    first_document = next(results)\n",
    "    pprint(first_document)\n",
    "\n",
    "# Convert the results to a DataFrame\n",
    "df = pd.DataFrame(results)\n",
    "\n",
    "# Print the number of rows in the DataFrame\n",
    "num_rows = len(df)\n",
    "print(\"Number of rows in the DataFrame:\", num_rows)\n",
    "\n",
    "# Display the first 10 rows of the DataFrame\n",
    "print(\"First 10 rows of the DataFrame:\")\n",
    "print(df.head(10))\n",
    "\n"
   ]
  },
  {
   "cell_type": "code",
   "execution_count": null,
   "id": "07e24ccb",
   "metadata": {},
   "outputs": [],
   "source": [
    "# Convert the result to a Pandas DataFrame\n",
    "\n",
    "# Display the number of rows in the DataFrame\n",
    "\n",
    "# Display the first 10 rows of the DataFrame\n"
   ]
  },
  {
   "cell_type": "markdown",
   "id": "4e570caf",
   "metadata": {},
   "source": [
    "### 3. What are the top 5 establishments with a `RatingValue` rating value of 5, sorted by lowest hygiene score, nearest to the new restaurant added, \"Penang Flavours\"?"
   ]
  },
  {
   "cell_type": "code",
   "execution_count": null,
   "id": "7f599f3d",
   "metadata": {},
   "outputs": [],
   "source": [
    "# Search within 0.01 degree on either side of the latitude and longitude.\n",
    "# Rating value must equal 5\n",
    "# Sort by hygiene score\n",
    "\n",
    "degree_search = 0.01\n",
    "latitude = \n",
    "longitude = \n",
    "\n",
    "query = \n",
    "sort =  \n",
    "\n",
    "# Print the results\n"
   ]
  },
  {
   "cell_type": "code",
   "execution_count": null,
   "id": "a6ad16f7",
   "metadata": {},
   "outputs": [],
   "source": [
    "# Convert result to Pandas DataFrame\n"
   ]
  },
  {
   "cell_type": "code",
   "execution_count": 87,
   "id": "e9564a08",
   "metadata": {},
   "outputs": [
    {
     "data": {
      "text/plain": [
       "'geocode_2dsphere'"
      ]
     },
     "execution_count": 87,
     "metadata": {},
     "output_type": "execute_result"
    }
   ],
   "source": [
    "\n",
    "from pymongo import MongoClient, GEOSPHERE\n",
    "\n",
    "# Connect to MongoDB\n",
    "client = MongoClient(\"mongodb://localhost:27017\")\n",
    "database = client[\"uk_food\"]\n",
    "collection = database[\"establishments\"]\n",
    "\n",
    "# Query documents with missing or invalid geocode values\n",
    "query = {\n",
    "    \"$or\": [\n",
    "        {\"geocode.longitude\": {\"$type\": \"string\"}},\n",
    "        {\"geocode.latitude\": {\"$type\": \"string\"}}\n",
    "    ]\n",
    "}\n",
    "results = collection.find(query)\n",
    "\n",
    "# Update documents with correct geocode values\n",
    "for result in results:\n",
    "    longitude = result[\"geocode\"][\"longitude\"]\n",
    "    latitude = result[\"geocode\"][\"latitude\"]\n",
    "    result[\"geocode\"][\"longitude\"] = float(longitude)\n",
    "    result[\"geocode\"][\"latitude\"] = float(latitude)\n",
    "    collection.replace_one({\"_id\": result[\"_id\"]}, result)\n",
    "\n",
    "# Create a geospatial index on the geocode field\n",
    "collection.create_index([(\"geocode\", GEOSPHERE)])\n",
    "\n"
   ]
  },
  {
   "cell_type": "code",
   "execution_count": 88,
   "id": "31e58a92",
   "metadata": {},
   "outputs": [
    {
     "name": "stdout",
     "output_type": "stream",
     "text": [
      "Number of rows in the DataFrame: 0\n",
      "First 10 rows of the DataFrame:\n",
      "Empty DataFrame\n",
      "Columns: []\n",
      "Index: []\n"
     ]
    }
   ],
   "source": [
    "# Set the latitude and longitude of Penang Flavours\n",
    "latitude = 51.490142\n",
    "longitude = 0.083840\n",
    "\n",
    "# Define the degree search range\n",
    "degree_search = 0.01\n",
    "\n",
    "# Create the query\n",
    "query = {\n",
    "    \"RatingValue\": 5,\n",
    "    \"geocode\": {\n",
    "        \"$nearSphere\": {\n",
    "            \"$geometry\": {\n",
    "                \"type\": \"Point\",\n",
    "                \"coordinates\": [longitude, latitude]\n",
    "            },\n",
    "            \"$maxDistance\": degree_search / 111.12  # Convert search range to meters\n",
    "        }\n",
    "    }\n",
    "}\n",
    "\n",
    "# Sort the results by hygiene score in ascending order\n",
    "sort = [(\"scores.Hygiene\", 1)]\n",
    "\n",
    "# Execute the query\n",
    "results = collection.find(query).sort(sort).limit(5)\n",
    "\n",
    "# Print the results\n",
    "for result in results:\n",
    "    pprint(result)\n",
    "\n",
    "# Convert the result to a Pandas DataFrame\n",
    "df = pd.DataFrame(results)\n",
    "\n",
    "# Display the number of rows in the DataFrame\n",
    "print(\"Number of rows in the DataFrame:\", len(df))\n",
    "\n",
    "# Display the first 10 rows of the DataFrame\n",
    "print(\"First 10 rows of the DataFrame:\")\n",
    "print(df.head(10))\n"
   ]
  },
  {
   "cell_type": "markdown",
   "id": "67281254",
   "metadata": {},
   "source": [
    "### 4. How many establishments in each Local Authority area have a hygiene score of 0?"
   ]
  },
  {
   "cell_type": "code",
   "execution_count": null,
   "id": "4eeb227e",
   "metadata": {},
   "outputs": [],
   "source": [
    "# Create a pipeline that: \n",
    "# 1. Matches establishments with a hygiene score of 0\n",
    "# 2. Groups the matches by Local Authority\n",
    "# 3. Sorts the matches from highest to lowest\n",
    "\n",
    "# Print the number of documents in the result\n",
    "\n",
    "# Print the first 10 results\n"
   ]
  },
  {
   "cell_type": "code",
   "execution_count": null,
   "id": "d8aab364",
   "metadata": {},
   "outputs": [],
   "source": [
    "# Convert the result to a Pandas DataFrame\n",
    "\n",
    "# Display the number of rows in the DataFrame\n",
    "\n",
    "# Display the first 10 rows of the DataFrame\n"
   ]
  },
  {
   "cell_type": "code",
   "execution_count": 90,
   "id": "68d3bace",
   "metadata": {},
   "outputs": [
    {
     "name": "stdout",
     "output_type": "stream",
     "text": [
      "Total establishments with a hygiene score of 0: 55\n",
      "Local Authority: Thanet, Count: 1130\n",
      "Local Authority: Greenwich, Count: 882\n",
      "Local Authority: Maidstone, Count: 713\n",
      "Local Authority: Newham, Count: 711\n",
      "Local Authority: Swale, Count: 686\n",
      "Local Authority: Chelmsford, Count: 680\n",
      "Local Authority: Medway, Count: 672\n",
      "Local Authority: Bexley, Count: 607\n",
      "Local Authority: Southend-On-Sea, Count: 586\n",
      "Local Authority: Tendring, Count: 542\n",
      "Number of rows in DataFrame: 55\n",
      "               _id  count\n",
      "0           Thanet   1130\n",
      "1        Greenwich    882\n",
      "2        Maidstone    713\n",
      "3           Newham    711\n",
      "4            Swale    686\n",
      "5       Chelmsford    680\n",
      "6           Medway    672\n",
      "7           Bexley    607\n",
      "8  Southend-On-Sea    586\n",
      "9         Tendring    542\n"
     ]
    }
   ],
   "source": [
    "from pymongo import MongoClient\n",
    "import pandas as pd\n",
    "\n",
    "# Connect to MongoDB\n",
    "client = MongoClient(\"mongodb://localhost:27017\")\n",
    "database = client[\"uk_food\"]\n",
    "collection = database[\"establishments\"]\n",
    "\n",
    "# Create the pipeline\n",
    "pipeline = [\n",
    "    {\"$match\": {\"scores.Hygiene\": 0}},\n",
    "    {\"$group\": {\"_id\": \"$LocalAuthorityName\", \"count\": {\"$sum\": 1}}},\n",
    "    {\"$sort\": {\"count\": -1}}\n",
    "]\n",
    "\n",
    "# Execute the pipeline\n",
    "result = list(collection.aggregate(pipeline))\n",
    "\n",
    "# Count the number of documents in the result\n",
    "count = len(result)\n",
    "\n",
    "print(f\"Total establishments with a hygiene score of 0: {count}\")\n",
    "\n",
    "# Print the first 10 results\n",
    "for doc in result[:10]:\n",
    "    print(f\"Local Authority: {doc['_id']}, Count: {doc['count']}\")\n",
    "\n",
    "# Convert the result to a Pandas DataFrame\n",
    "df = pd.DataFrame(result)\n",
    "\n",
    "# Display the number of rows in the DataFrame\n",
    "print(f\"Number of rows in DataFrame: {len(df)}\")\n",
    "\n",
    "# Display the first 10 rows of the DataFrame\n",
    "print(df.head(10))\n"
   ]
  },
  {
   "cell_type": "code",
   "execution_count": null,
   "id": "7db58834",
   "metadata": {},
   "outputs": [],
   "source": []
  },
  {
   "cell_type": "code",
   "execution_count": null,
   "id": "0bfaa176",
   "metadata": {},
   "outputs": [],
   "source": []
  },
  {
   "cell_type": "code",
   "execution_count": null,
   "id": "d8797d6a",
   "metadata": {},
   "outputs": [],
   "source": []
  },
  {
   "cell_type": "code",
   "execution_count": null,
   "id": "2c755877",
   "metadata": {},
   "outputs": [],
   "source": []
  },
  {
   "cell_type": "code",
   "execution_count": null,
   "id": "edb9735a",
   "metadata": {},
   "outputs": [],
   "source": []
  }
 ],
 "metadata": {
  "kernelspec": {
   "display_name": "Python 3 (ipykernel)",
   "language": "python",
   "name": "python3"
  },
  "language_info": {
   "codemirror_mode": {
    "name": "ipython",
    "version": 3
   },
   "file_extension": ".py",
   "mimetype": "text/x-python",
   "name": "python",
   "nbconvert_exporter": "python",
   "pygments_lexer": "ipython3",
   "version": "3.10.9"
  }
 },
 "nbformat": 4,
 "nbformat_minor": 5
}
